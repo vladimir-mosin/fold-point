{
 "cells": [
  {
   "cell_type": "markdown",
   "id": "46e63a58",
   "metadata": {},
   "source": [
    "# Алгоритмический поиск локтевой точки для определения приемлемых значений метрик машинного обучения"
   ]
  },
  {
   "cell_type": "markdown",
   "id": "da5cf599",
   "metadata": {},
   "source": [
    "Часто бывает так, что изменяя какие-нибудь характеристики модели мы постепенно повышаем скор, но сначала это повышения является значительным, а начиная с какого-то места, формальный рост продолжается, но уже не приносит значмых улучшений. Точка в который быстрый рост замедляется и становится уже несущественным называется локтевой точкой.\n",
    "\n",
    "Известно, что даже если функция задана аналитически, получить формулу для локтевой точки невозможно. Поэтому аналитики, изучая такие ситуации, действуют на глаз: просто глядя на график функции скора. Однако, как быть, если результат требуется получать очень часто и очень быстро? В этой работе мы предлагаем алгоритм, который справляется с этой задачей.\n",
    "\n",
    "Подробный разбор алгоритма и идей, которые в него заложены см. в [полной статье в формате pdf](paper.pdf)."
   ]
  },
  {
   "cell_type": "code",
   "execution_count": 1,
   "id": "159bd806",
   "metadata": {},
   "outputs": [],
   "source": [
    "import warnings\n",
    "warnings.filterwarnings('ignore')\n",
    "\n",
    "import numpy as np\n",
    "import pandas as pd\n",
    "import sklearn.linear_model as skl\n",
    "\n",
    "from sklearn.cluster import DBSCAN\n",
    "from sklearn.metrics import silhouette_score\n",
    "from sklearn.datasets import make_blobs\n",
    "import matplotlib.pyplot as plt"
   ]
  },
  {
   "cell_type": "markdown",
   "id": "27408760",
   "metadata": {},
   "source": [
    "## Определение функции fold_point"
   ]
  },
  {
   "cell_type": "markdown",
   "id": "a37c9cb1",
   "metadata": {},
   "source": [
    "Наш алгоритм мы зашиваем в функцию, которая принимает на вход два массива (причем именно первый массив считается горизонтальной переменной, и именно второй массив считается вертикальной переменной), а возвращает номер локтевой точки."
   ]
  },
  {
   "cell_type": "code",
   "execution_count": 2,
   "id": "ef366e14",
   "metadata": {},
   "outputs": [],
   "source": [
    "def fold_point(A, B):\n",
    "    \n",
    "    # Сразу считаем знаменатель коэффициента детерминации\n",
    "    S_line = ((B - B.mean())**2).sum()\n",
    "    \n",
    "    # заводим список для коэффициентов детерминации, которые будут получаться в цикле\n",
    "    R2_list = []\n",
    "    \n",
    "    # Устанавливаем влеичину сдвига\n",
    "    shift = 3\n",
    "    \n",
    "    # Проводим в цикле разбиения массивов внутренней точкой на левую и правую части\n",
    "    for i in np.arange(shift, len(A) - shift):\n",
    "        \n",
    "        # Данные для левой модели\n",
    "        X_left = A[:i].reshape(-1, 1)\n",
    "        y_left = B[:i]\n",
    "        \n",
    "        # Учим левую модель\n",
    "        model_left = skl.LinearRegression()\n",
    "        model_left.fit(X_left, y_left)\n",
    "\n",
    "        # Предсказания левой модели\n",
    "        y_pred_left = model_left.predict(X_left)\n",
    "        \n",
    "        # Считаем левый фрагмент числителя коэффициента детеминации\n",
    "        S_star_left = ((y_pred_left - y_left)**2).sum()\n",
    "        \n",
    "        # То же самое для правого участка\n",
    "        X_right = A[i:].reshape(-1, 1)\n",
    "        y_right = B[i:]\n",
    "\n",
    "        model_right = skl.LinearRegression()\n",
    "        model_right.fit(X_right, y_right)\n",
    "\n",
    "        y_pred_right = model_right.predict(X_right)\n",
    "\n",
    "        S_star_right = ((y_pred_right - y_right)**2).sum()\n",
    "        \n",
    "        # Общий числитель коэффициента детерминации\n",
    "        S_star = S_star_left + S_star_right\n",
    "        \n",
    "        # Коэффициент детерминации, посчитанный по поределению\n",
    "        R2 = 1 - S_star/S_line\n",
    "        \n",
    "        # Аппендим в список скоров\n",
    "        R2_list.append(R2)\n",
    "        \n",
    "    # Формируем черновой индекс локтевой точки    \n",
    "    fold_inedex_draft = np.array(R2_list).argmax() + shift\n",
    "    \n",
    "    # Проверяем условие возрастания и формируем окончательный индекс\n",
    "    if B[fold_inedex_draft] >= B[fold_inedex_draft - 1]:\n",
    "    \n",
    "        fold_index = fold_inedex_draft\n",
    "        \n",
    "    else:\n",
    "        \n",
    "        fold_index = fold_inedex_draft - 1\n",
    "    \n",
    "    return fold_index"
   ]
  },
  {
   "cell_type": "markdown",
   "id": "c742e863",
   "metadata": {},
   "source": [
    "## Пример на синтетических данных"
   ]
  },
  {
   "cell_type": "code",
   "execution_count": 20,
   "id": "bbce9f71",
   "metadata": {},
   "outputs": [
    {
     "data": {
      "text/plain": [
       "[<matplotlib.lines.Line2D at 0x1b06b323410>]"
      ]
     },
     "execution_count": 20,
     "metadata": {},
     "output_type": "execute_result"
    },
    {
     "data": {
      "image/png": "[encoded data removed]",
      "text/plain": [
       "<Figure size 640x480 with 1 Axes>"
      ]
     },
     "metadata": {},
     "output_type": "display_data"
    }
   ],
   "source": [
    "# Готовим синтетику\n",
    "arr_1 = np.arange(0.001, 1, 0.02)\n",
    "arr_2 = arr_1**(1/4) + np.random.normal(loc=0.0, scale=0.01, size=len(arr_1))\n",
    "\n",
    "# Применяем наш алгоритм\n",
    "fold_point(arr_1, arr_2)\n",
    "\n",
    "# Рисуем картинку\n",
    "plt.plot(arr_1, arr_2)\n",
    "plt.plot(arr_1[fold_point(arr_1, arr_2)], arr_2[fold_point(arr_1, arr_2)], 'o')"
   ]
  },
  {
   "cell_type": "code",
   "execution_count": null,
   "id": "94654d37",
   "metadata": {},
   "outputs": [],
   "source": []
  }
 ],
 "metadata": {
  "kernelspec": {
   "display_name": "Python 3 (ipykernel)",
   "language": "python",
   "name": "python3"
  },
  "language_info": {
   "codemirror_mode": {
    "name": "ipython",
    "version": 3
   },
   "file_extension": ".py",
   "mimetype": "text/x-python",
   "name": "python",
   "nbconvert_exporter": "python",
   "pygments_lexer": "ipython3",
   "version": "3.11.3"
  }
 },
 "nbformat": 4,
 "nbformat_minor": 5
}
